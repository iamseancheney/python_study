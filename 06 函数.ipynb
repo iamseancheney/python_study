{
 "cells": [
  {
   "cell_type": "code",
   "execution_count": 1,
   "metadata": {},
   "outputs": [
    {
     "name": "stdout",
     "output_type": "stream",
     "text": [
      "[0, 1, 1, 2, 3, 5, 8, 13, 21, 34, 55, 89, 144, 233, 377]\n"
     ]
    }
   ],
   "source": [
    "# num作为位置参数\n",
    "\n",
    "def fibs(num):\n",
    "    result = [0, 1]\n",
    "    for i in range(num - 2):\n",
    "        result.append(result[-2] + result[-1])\n",
    "    # print(result)\n",
    "    return result\n",
    "\n",
    "print(fibs(15))"
   ]
  },
  {
   "cell_type": "code",
   "execution_count": 2,
   "metadata": {},
   "outputs": [
    {
     "name": "stdout",
     "output_type": "stream",
     "text": [
      "25\n"
     ]
    }
   ],
   "source": [
    "# 默认参数；x叫做形参，5叫做实参\n",
    "\n",
    "def power(x, n=2):\n",
    "    s = 1\n",
    "    while n > 0:\n",
    "        n = n - 1\n",
    "        s = s * x\n",
    "    return s\n",
    "print(power(5))"
   ]
  },
  {
   "cell_type": "code",
   "execution_count": 4,
   "metadata": {},
   "outputs": [
    {
     "name": "stdout",
     "output_type": "stream",
     "text": [
      "84\n"
     ]
    }
   ],
   "source": [
    "# 可变参数\n",
    "\n",
    "def calc(numbers):\n",
    "    sum = 0\n",
    "    for n in numbers:\n",
    "        sum = sum + n * n\n",
    "    return sum\n",
    "print(calc([1,3,5,7]))"
   ]
  },
  {
   "cell_type": "code",
   "execution_count": 11,
   "metadata": {},
   "outputs": [
    {
     "name": "stdout",
     "output_type": "stream",
     "text": [
      "(1,) <class 'tuple'>\n"
     ]
    }
   ],
   "source": [
    "# 任意参数\n",
    "\n",
    "def function(*args):\n",
    "    print(args, type(args))\n",
    "\n",
    "function(1)\n",
    "\n",
    "# 注意：(1,)是个单元素的元组"
   ]
  },
  {
   "cell_type": "code",
   "execution_count": 12,
   "metadata": {},
   "outputs": [
    {
     "name": "stdout",
     "output_type": "stream",
     "text": [
      "('name:', 'Michael', 'age:', 30, 'other:', {})\n",
      "('name:', 'Bob', 'age:', 35, 'other:', {'city': 'Beijing'})\n"
     ]
    }
   ],
   "source": [
    "# 任意关键字参数 kw: key words\n",
    "\n",
    "def person(name, age, **kwargs):\n",
    "    return ('name:', name, 'age:', age, 'other:', kwargs)\n",
    "\n",
    "print(\n",
    "    person('Michael', 30)\n",
    ")\n",
    "print(\n",
    "    person('Bob', 35, city='Beijing')\n",
    ")"
   ]
  },
  {
   "cell_type": "code",
   "execution_count": 7,
   "metadata": {},
   "outputs": [
    {
     "name": "stdout",
     "output_type": "stream",
     "text": [
      "24\n"
     ]
    }
   ],
   "source": [
    "# 递归函数\n",
    "\n",
    "def fact(n):\n",
    "    if n==1:\n",
    "        return 1\n",
    "    return n * fact(n - 1)\n",
    "print(fact(4))"
   ]
  },
  {
   "cell_type": "code",
   "execution_count": 13,
   "metadata": {},
   "outputs": [
    {
     "name": "stdout",
     "output_type": "stream",
     "text": [
      "3\n"
     ]
    }
   ],
   "source": [
    "# 匿名函数，lambda函数\n",
    "\n",
    "f = lambda x,y:x+y\n",
    "print(f(1,2))"
   ]
  },
  {
   "cell_type": "code",
   "execution_count": 10,
   "metadata": {},
   "outputs": [
    {
     "data": {
      "text/plain": [
       "3"
      ]
     },
     "execution_count": 10,
     "metadata": {},
     "output_type": "execute_result"
    }
   ],
   "source": [
    "# 高阶函数\n",
    "\n",
    "# 一个函数就可以接收另一个函数作为参数，这种函数就称之为高阶函数\n",
    "\n",
    "f = abs\n",
    "\n",
    "def add(x, y, f):\n",
    "    return f(x) + f(y)\n",
    "\n",
    "add(-1, 2, f)"
   ]
  },
  {
   "cell_type": "code",
   "execution_count": 13,
   "metadata": {},
   "outputs": [
    {
     "name": "stdout",
     "output_type": "stream",
     "text": [
      "call now():\n",
      "2019-11-30\n"
     ]
    }
   ],
   "source": [
    "# 装饰器\n",
    "\n",
    "def log(func):\n",
    "    def wrapper(*args, **kw):\n",
    "        print('call %s():' % func.__name__)\n",
    "        return func(*args, **kw)\n",
    "    return wrapper\n",
    "\n",
    "@log\n",
    "def now():\n",
    "    print('2019-11-30')\n",
    "    \n",
    "now()"
   ]
  },
  {
   "cell_type": "code",
   "execution_count": 19,
   "metadata": {},
   "outputs": [
    {
     "name": "stdout",
     "output_type": "stream",
     "text": [
      "1 * 1 = 1   \n",
      "1 * 2 = 2   2 * 2 = 4   \n",
      "1 * 3 = 3   2 * 3 = 6   3 * 3 = 9   \n",
      "1 * 4 = 4   2 * 4 = 8   3 * 4 = 12   4 * 4 = 16   \n",
      "1 * 5 = 5   2 * 5 = 10   3 * 5 = 15   4 * 5 = 20   5 * 5 = 25   \n",
      "1 * 6 = 6   2 * 6 = 12   3 * 6 = 18   4 * 6 = 24   5 * 6 = 30   6 * 6 = 36   \n",
      "1 * 7 = 7   2 * 7 = 14   3 * 7 = 21   4 * 7 = 28   5 * 7 = 35   6 * 7 = 42   7 * 7 = 49   \n",
      "1 * 8 = 8   2 * 8 = 16   3 * 8 = 24   4 * 8 = 32   5 * 8 = 40   6 * 8 = 48   7 * 8 = 56   8 * 8 = 64   \n",
      "1 * 9 = 9   2 * 9 = 18   3 * 9 = 27   4 * 9 = 36   5 * 9 = 45   6 * 9 = 54   7 * 9 = 63   8 * 9 = 72   9 * 9 = 81   \n",
      "函数运行时间为： 0.017705917358398438 s\n"
     ]
    }
   ],
   "source": [
    "# 打印九九乘法表，并计算时间\n",
    "\n",
    "import time\n",
    "\n",
    "def func_time(func):\n",
    "    def inner(*args,**kw):\n",
    "        start_time = time.time()\n",
    "        func(*args,**kw)\n",
    "        end_time = time.time()\n",
    "        print('函数运行时间为：',end_time-start_time,'s')\n",
    "    return inner\n",
    "\n",
    "@func_time\n",
    "def sum(x):\n",
    "    for i in range(1,x+1):\n",
    "        for j in range(1,i+1):\n",
    "            print(j,'*', i, '=',i*j,end='   ')\n",
    "        print()\n",
    "        \n",
    "sum(9)"
   ]
  }
 ],
 "metadata": {
  "kernelspec": {
   "display_name": "venv_py3.7",
   "language": "python",
   "name": "venv_py3.7"
  },
  "language_info": {
   "codemirror_mode": {
    "name": "ipython",
    "version": 3
   },
   "file_extension": ".py",
   "mimetype": "text/x-python",
   "name": "python",
   "nbconvert_exporter": "python",
   "pygments_lexer": "ipython3",
   "version": "3.7.4"
  }
 },
 "nbformat": 4,
 "nbformat_minor": 2
}
