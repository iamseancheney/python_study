{
 "cells": [
  {
   "cell_type": "markdown",
   "metadata": {},
   "source": [
    "Python的历史\n",
    "\n",
    "\n",
    "Papers with Code 是一个总结了机器学习论文及其代码实现的网站。大多数论文都是有GitHub代码的。这个网站最好的地方就是对机器学习做了任务分类，检索对应的模型非常方便。\n",
    "网址：https://paperswithcode.com\n",
    "\n",
    "![首页有三栏：趋势、最新、最热](https://upload-images.jianshu.io/upload_images/7178691-279a45413f7ce8a2.png?imageMogr2/auto-orient/strip%7CimageView2/2/w/1240)\n",
    "\n",
    "![State-of-the-Art里面列出了任务划分，看下计算机视觉中的图片分类](https://upload-images.jianshu.io/upload_images/7178691-fa9f9fb582347a7e.png?imageMogr2/auto-orient/strip%7CimageView2/2/w/1240)\n",
    "\n",
    "![比如对于图片分类这个任务，列出了不同数据集的最优方法](https://upload-images.jianshu.io/upload_images/7178691-b29008398f4d3ecb.png?imageMogr2/auto-orient/strip%7CimageView2/2/w/1240)\n",
    "\n",
    "![比如MNIST这个最常用的数据集，最优模型是RMDL](https://upload-images.jianshu.io/upload_images/7178691-f705f156fbc7964b.png?imageMogr2/auto-orient/strip%7CimageView2/2/w/1240)\n",
    "\n",
    "去它的GitHub地址看看RMDL到底是怎么回事，https://github.com/kk7nc/RMDL。随机多模型深度学习（Random Multimodel Deep Learning，RMDL）原来是采用了类似于集成学习的思想。\n",
    "\n",
    "![](https://upload-images.jianshu.io/upload_images/7178691-979f33286cfe8ef8.png?imageMogr2/auto-orient/strip%7CimageView2/2/w/1240)\n",
    "\n"
   ]
  },
  {
   "cell_type": "code",
   "execution_count": null,
   "metadata": {},
   "outputs": [],
   "source": []
  },
  {
   "cell_type": "code",
   "execution_count": 26,
   "metadata": {
    "scrolled": true
   },
   "outputs": [
    {
     "name": "stdout",
     "output_type": "stream",
     "text": [
      "('IP\\xe6\\x95\\xb0\\xe9\\x87\\x8f =', 1340)\n",
      "('URL\\xe6\\x95\\xb0\\xe9\\x87\\x8f =', 20162)\n",
      "('\\xe6\\x90\\x9c\\xe7\\x8b\\x97cookies\\xe6\\x95\\xb0 =', 9146)\n",
      "('\\xe6\\x90\\x9c\\xe7\\x8b\\x97ip_snuid_suid\\xe6\\x95\\xb0 =', 190559)\n",
      "('\\xe6\\x90\\x9c\\xe7\\x8b\\x97\\xe5\\xbe\\xae\\xe4\\xbf\\xa1\\xe4\\xb8\\x8b\\xe8\\xbd\\xbd\\xe9\\x98\\x9f\\xe5\\x88\\x97 =', 8021)\n",
      "('\\xe6\\x90\\x9c\\xe7\\x8b\\x97\\xe5\\xbe\\xae\\xe4\\xbf\\xa1\\xe8\\xa7\\xa3\\xe6\\x9e\\x90\\xe9\\x98\\x9f\\xe5\\x88\\x97 =', 0)\n",
      "('\\xe6\\x90\\x9c\\xe7\\x8b\\x97\\xe6\\x96\\xb0\\xe9\\x97\\xbb\\xe4\\xb8\\x8b\\xe8\\xbd\\xbd\\xe9\\x98\\x9f\\xe5\\x88\\x97 =', 13760)\n",
      "('\\xe6\\x90\\x9c\\xe7\\x8b\\x97\\xe6\\x96\\xb0\\xe9\\x97\\xbb\\xe8\\xa7\\xa3\\xe6\\x9e\\x90\\xe9\\x98\\x9f\\xe5\\x88\\x97 =', 626)\n",
      "('\\xe7\\x99\\xbe\\xe5\\xba\\xa6\\xe4\\xb8\\x8b\\xe8\\xbd\\xbd\\xe9\\x98\\x9f\\xe5\\x88\\x97 =', 10405)\n",
      "('\\xe7\\x99\\xbe\\xe5\\xba\\xa6\\xe8\\xa7\\xa3\\xe6\\x9e\\x90\\xe9\\x98\\x9f\\xe5\\x88\\x97 =', 9369)\n",
      "('360\\xe4\\xb8\\x8b\\xe8\\xbd\\xbd\\xe9\\x98\\x9f\\xe5\\x88\\x97 =', 17747)\n",
      "('360\\xe8\\xa7\\xa3\\xe6\\x9e\\x90\\xe9\\x98\\x9f\\xe5\\x88\\x97 =', 0)\n",
      "('\\xe5\\xa4\\xb4\\xe6\\x9d\\xa1\\xe4\\xb8\\x8b\\xe8\\xbd\\xbd\\xe9\\x98\\x9f\\xe5\\x88\\x97 =', 12222)\n",
      "('\\xe5\\xa4\\xb4\\xe6\\x9d\\xa1\\xe8\\xa7\\xa3\\xe6\\x9e\\x90\\xe9\\x98\\x9f\\xe5\\x88\\x97 =', 0)\n",
      "('META\\xe4\\xb8\\x8b\\xe8\\xbd\\xbd\\xe9\\x98\\x9f\\xe5\\x88\\x97 =', 3517)\n",
      "('META\\xe8\\xa7\\xa3\\xe6\\x9e\\x90\\xe9\\x98\\x9f\\xe5\\x88\\x97 =', 191)\n",
      "('NATS\\xe9\\x98\\x9f\\xe5\\x88\\x97 =', 12333)\n"
     ]
    }
   ],
   "source": [
    "# -*- coding: utf-8 -*-\n",
    "\n",
    "import redis\n",
    "\n",
    "class RedisClient():\n",
    "    def __init__(self):\n",
    "        self.pool = redis.ConnectionPool(host=\"r-2zevzl56b1bnedlony.redis.rds.aliyuncs.com\", port=6379)\n",
    "        self.conn = redis.Redis(connection_pool=self.pool)\n",
    "\n",
    "redisClientConn = RedisClient().conn\n",
    "\n",
    "\n",
    "if __name__ == '__main__':\n",
    "    redisClientConn = RedisClient().conn\n",
    "    print('IP数量 =', redisClientConn.scard('ippool'))\n",
    "    print('URL数量 =', redisClientConn.scard('meta_urls'))\n",
    "    print('搜狗cookies数 =', redisClientConn.scard('sogou_cookies'))\n",
    "    print('搜狗ip_snuid_suid数 =', redisClientConn.scard('sogou_ip_snuid_suid'))\n",
    "    print('搜狗微信下载队列 =', redisClientConn.llen('downloadQueue'))\n",
    "    print('搜狗微信解析队列 =', redisClientConn.llen('parseQueue'))\n",
    "    print('搜狗新闻下载队列 =', redisClientConn.llen('sogounewsDownloadQueue'))\n",
    "    print('搜狗新闻解析队列 =', redisClientConn.llen('sogounewsParseQueue'))\n",
    "    print('百度下载队列 =', redisClientConn.llen('baidunewsDownloadQueue'))\n",
    "    print('百度解析队列 =', redisClientConn.llen('baidunewsParseQueue'))\n",
    "    print('360下载队列 =', redisClientConn.llen('qihoonewsDownloadQueue'))\n",
    "    print('360解析队列 =', redisClientConn.llen('qihoonewsParseQueue'))\n",
    "    print('头条下载队列 =', redisClientConn.llen('toutiaonewsDownloadQueue'))\n",
    "    print('头条解析队列 =', redisClientConn.llen('toutiaonewsParseQueue'))\n",
    "    print('META下载队列 =', redisClientConn.llen('metaDownloadQueue'))\n",
    "    print('META解析队列 =', redisClientConn.llen('metaParseQueue'))\n",
    "    print('NATS队列 =', 12333)"
   ]
  },
  {
   "cell_type": "code",
   "execution_count": 24,
   "metadata": {
    "scrolled": true
   },
   "outputs": [
    {
     "name": "stdout",
     "output_type": "stream",
     "text": [
      "<!DOCTYPE html>\r\n",
      "<!--STATUS OK--><html> <head><meta http-equiv=content-type content=text/html;charset=utf-8><meta http-equiv=X-UA-Compatible content=IE=Edge><meta content=always name=referrer><link rel=stylesheet type=text/css href=https://ss1.bdstatic.com/5eN1bjq8AAUYm2zgoY3K/r/www/cache/bdorz/baidu.min.css><title>百度一下，你就知道</title></head> <body link=#0000cc> <div id=wrapper> <div id=head> <div class=head_wrapper> <div class=s_form> <div class=s_form_wrapper> <div id=lg> <img hidefocus=true src=//www.baidu.com/img/bd_logo1.png width=270 height=129> </div> <form id=form name=f action=//www.baidu.com/s class=fm> <input type=hidden name=bdorz_come value=1> <input type=hidden name=ie value=utf-8> <input type=hidden name=f value=8> <input type=hidden name=rsv_bp value=1> <input type=hidden name=rsv_idx value=1> <input type=hidden name=tn value=baidu><span class=\"bg s_ipt_wr\"><input id=kw name=wd class=s_ipt value maxlength=255 autocomplete=off autofocus=autofocus></span><span class=\"bg s_btn_wr\"><input type=submit id=su value=百度一下 class=\"bg s_btn\" autofocus></span> </form> </div> </div> <div id=u1> <a href=http://news.baidu.com name=tj_trnews class=mnav>新闻</a> <a href=https://www.hao123.com name=tj_trhao123 class=mnav>hao123</a> <a href=http://map.baidu.com name=tj_trmap class=mnav>地图</a> <a href=http://v.baidu.com name=tj_trvideo class=mnav>视频</a> <a href=http://tieba.baidu.com name=tj_trtieba class=mnav>贴吧</a> <noscript> <a href=http://www.baidu.com/bdorz/login.gif?login&amp;tpl=mn&amp;u=http%3A%2F%2Fwww.baidu.com%2f%3fbdorz_come%3d1 name=tj_login class=lb>登录</a> </noscript> <script>document.write('<a href=\"http://www.baidu.com/bdorz/login.gif?login&tpl=mn&u='+ encodeURIComponent(window.location.href+ (window.location.search === \"\" ? \"?\" : \"&\")+ \"bdorz_come=1\")+ '\" name=\"tj_login\" class=\"lb\">登录</a>');\r\n",
      "                </script> <a href=//www.baidu.com/more/ name=tj_briicon class=bri style=\"display: block;\">更多产品</a> </div> </div> </div> <div id=ftCon> <div id=ftConw> <p id=lh> <a href=http://home.baidu.com>关于百度</a> <a href=http://ir.baidu.com>About Baidu</a> </p> <p id=cp>&copy;2017&nbsp;Baidu&nbsp;<a href=http://www.baidu.com/duty/>使用百度前必读</a>&nbsp; <a href=http://jianyi.baidu.com/ class=cp-feedback>意见反馈</a>&nbsp;京ICP证030173号&nbsp; <img src=//www.baidu.com/img/gs.gif> </p> </div> </div> </div> </body> </html>\r\n",
      "\n"
     ]
    }
   ],
   "source": [
    "# -*- coding: utf-8 -*-\n",
    "\n",
    "import requests\n",
    "\n",
    "url = 'https://www.baidu.com'\n",
    "response = requests.get(url)\n",
    "\n",
    "print(html)\n",
    "\n",
    "if response.encoding != 'ISO-8859-1':\n",
    "    html = response.text\n",
    "# else:\n",
    "#     html = response.content\n",
    "#     if 'charset' not in response.headers.get('content-type'):\n",
    "#         encodings = requests.utils.get_encodings_from_content(response.text)\n",
    "#         if len(encodings) > 0:\n",
    "#             response.encoding = encodings[0]\n",
    "#             html = response.text"
   ]
  },
  {
   "cell_type": "code",
   "execution_count": 22,
   "metadata": {
    "scrolled": true
   },
   "outputs": [
    {
     "name": "stdout",
     "output_type": "stream",
     "text": [
      "中国\n"
     ]
    }
   ],
   "source": [
    "print('中国')"
   ]
  },
  {
   "cell_type": "code",
   "execution_count": 23,
   "metadata": {
    "scrolled": true
   },
   "outputs": [
    {
     "name": "stdout",
     "output_type": "stream",
     "text": [
      "NATS队列 =\n"
     ]
    }
   ],
   "source": [
    "print('NATS队列 =')"
   ]
  },
  {
   "cell_type": "code",
   "execution_count": 28,
   "metadata": {},
   "outputs": [
    {
     "name": "stdout",
     "output_type": "stream",
     "text": [
      "NATS队列 =\n",
      "123333\n"
     ]
    }
   ],
   "source": [
    "print('NATS队列 =')\n",
    "print(123333)"
   ]
  },
  {
   "cell_type": "markdown",
   "metadata": {},
   "source": [
    "![UNADJUSTEDNONRAW_mini_43.jpg](http://ww1.sinaimg.cn/large/680b1a08ly1g8pmp07lubj20a5077wh4.jpg)"
   ]
  },
  {
   "cell_type": "markdown",
   "metadata": {},
   "source": [
    "![UNADJUSTEDNONRAW_thumb_42.jpg](http://ww1.sinaimg.cn/large/680b1a08ly1g8pmrrce9mj20qo0f041x.jpg)"
   ]
  },
  {
   "cell_type": "markdown",
   "metadata": {},
   "source": []
  }
 ],
 "metadata": {
  "kernelspec": {
   "display_name": "Python 2",
   "language": "python",
   "name": "python2"
  },
  "language_info": {
   "codemirror_mode": {
    "name": "ipython",
    "version": 2
   },
   "file_extension": ".py",
   "mimetype": "text/x-python",
   "name": "python",
   "nbconvert_exporter": "python",
   "pygments_lexer": "ipython2",
   "version": "2.7.15"
  }
 },
 "nbformat": 4,
 "nbformat_minor": 2
}
