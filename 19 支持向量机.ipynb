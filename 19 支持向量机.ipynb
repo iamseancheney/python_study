{
 "cells": [
  {
   "cell_type": "markdown",
   "metadata": {},
   "source": [
    "## 支持向量机\n",
    "\n",
    "SVM是Support Vector Machine的简称，中文名为支持向量机，可以将低维线性不可分的空间转换为高维的线性可分空间。\n",
    "\n",
    "该算法的思想就是利用某些支持向量所构成的“超平面”，将不同类别的样本点进行划分。不管样本点是线性可分的、近似线性可分的还是非线性可分的，都可以利用“超平面”将样本点以较高的准确度切割开来。需要注意的是，如果样本点为非线性可分，就要借助于核函数技术，实现样本在核空间下完成线性可分的操作。\n",
    "\n",
    "在一维空间中，如需将数据切分为两段，只需要一个点即可；在二维空间中，对于线性可分的样本点，将其切分为两类，只需一条直线即可；在三维空间中，将样本点切分开来，就需要一个平面；以此类推，在更高维度的空间内，可能就需要构造一个“超平面”将数据进行划分。\n",
    "\n",
    "![](https://tva1.sinaimg.cn/large/006y8mN6ly1g918ptho5kj312q0jtaco.jpg)"
   ]
  },
  {
   "cell_type": "markdown",
   "metadata": {},
   "source": [
    "### 距离公式\n",
    "\n",
    "假设二维空间中存在一个点(x0,y0)，对于直线Ax+By+C=0而言，点到直线的距离可以表示为：\n",
    "\n",
    "![](https://tva1.sinaimg.cn/large/006y8mN6ly1g918t28wmdj30bm03pjri.jpg)\n",
    "\n",
    "假设二维空间中存在两条平行线Ax+By+C1=0和Ax+By+C2=0，则它们之间的距离可以表示为：\n",
    "\n",
    "![](https://tva1.sinaimg.cn/large/006y8mN6ly1g918tm1kbsj307l03gt8r.jpg)\n",
    "\n",
    "![](https://tva1.sinaimg.cn/large/006y8mN6ly1g918tr48ntj315s0d9my4.jpg)"
   ]
  },
  {
   "cell_type": "markdown",
   "metadata": {},
   "source": [
    "## SVM的实现思想\n",
    "\n",
    "最优的“超平面”\n",
    "\n",
    "![](https://tva1.sinaimg.cn/large/006y8mN6ly1g9ac5qoqk2j314009r76c.jpg)\n",
    "\n",
    "假设直线li是l1和l2之间的某条直线，它同样可以将两类样本点准确无误地划分出来。为了能够寻找到最优的分割面li，需要做三件事，首先计算两个类别中的样本点到直线li的距离；然后从两组距离中各挑选出一个最短的（如图中所示的距离d1和d2），继续比较d1和d2，再选出最短的距离（如图中的d1），并以该距离构造“分割带”（如图中经平移后的两条虚线）；最后利用无穷多个分割直线li，构造无穷多个“分割带”，并从这些“分割带”中挑选出带宽最大的li。"
   ]
  },
  {
   "cell_type": "markdown",
   "metadata": {},
   "source": [
    "## 硬分割vs软分割\n",
    "\n",
    "![](https://tva1.sinaimg.cn/large/006y8mN6ly1g9aafkf5nqj314009rac6.jpg)\n",
    "\n"
   ]
  },
  {
   "cell_type": "markdown",
   "metadata": {},
   "source": [
    "## 核技巧\n",
    "\n",
    "（1）线性可分（硬间隔）\n",
    "\n",
    "（2）线性不可分，但大致可分（软间隔）\n",
    "\n",
    "（3）线性不可分，最优超平面误差极大，如异或问题区分{(0,0),(1,1)}和{(0,1),(1,0)}这两类，超平面无最优解，至少都有50%的误差，于是就要用到传说中的核函数（核技巧）\n",
    "\n",
    "### 多项式核\n",
    "\n",
    "![](https://tva1.sinaimg.cn/large/006y8mN6ly1g9ac2kni67j31400eywg3.jpg)\n",
    "\n",
    "```\n",
    "from sklearn.datasets import make_moons\n",
    "from sklearn.pipeline import Pipeline\n",
    "from sklearn.preprocessing import PolynomialFeatures\n",
    "\n",
    "X, y = make_moons(n_samples=100, noise=0.15)\n",
    "polynomial_svm_clf = Pipeline([\n",
    "        (\"poly_features\", PolynomialFeatures(degree=3)),\n",
    "        (\"scaler\", StandardScaler()),\n",
    "        (\"svm_clf\", LinearSVC(C=10, loss=\"hinge\"))\n",
    "    ])\n",
    "\n",
    "polynomial_svm_clf.fit(X, y)\n",
    "```\n",
    "\n",
    "或者，使用核技巧：\n",
    "\n",
    "```\n",
    "from sklearn.svm import SVC\n",
    "poly_kernel_svm_clf = Pipeline([\n",
    "        (\"scaler\", StandardScaler()),\n",
    "        (\"svm_clf\", SVC(kernel=\"poly\", degree=3, coef0=1, C=5))\n",
    "    ])\n",
    "poly_kernel_svm_clf.fit(X, y)\n",
    "```\n",
    "\n",
    "### 高斯RBF核\n",
    "\n",
    "![](https://tva1.sinaimg.cn/large/006y8mN6ly1g9ac4m81skj31400q1wkz.jpg)\n",
    "\n",
    "```\n",
    "rbf_kernel_svm_clf = Pipeline([\n",
    "        (\"scaler\", StandardScaler()),\n",
    "        (\"svm_clf\", SVC(kernel=\"rbf\", gamma=5, C=0.001))\n",
    "    ])\n",
    "rbf_kernel_svm_clf.fit(X, y)\n",
    "```"
   ]
  }
 ],
 "metadata": {
  "kernelspec": {
   "display_name": "venv_py3.7",
   "language": "python",
   "name": "venv_py3.7"
  },
  "language_info": {
   "codemirror_mode": {
    "name": "ipython",
    "version": 3
   },
   "file_extension": ".py",
   "mimetype": "text/x-python",
   "name": "python",
   "nbconvert_exporter": "python",
   "pygments_lexer": "ipython3",
   "version": "3.7.4"
  }
 },
 "nbformat": 4,
 "nbformat_minor": 2
}
