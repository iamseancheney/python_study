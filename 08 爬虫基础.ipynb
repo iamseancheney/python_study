{
 "cells": [
  {
   "cell_type": "markdown",
   "metadata": {},
   "source": [
    "# 08 爬虫基础\n",
    "\n",
    "## 大数据+⼈工智能时代\n",
    "\n",
    "## 吴军:《智能时代》(大数据与智能革命重新定义未来);\n",
    "    \n",
    "- 与数据相比，大数据的特点:体量大、维度高、及时性强；配套⼯具飞速发展\n",
    "    \n",
    "- 举例:托勒密、哥白尼、第谷、开普勒 (教会迫害科学or数据问题)\n",
    "\n",
    "- 更多的例子：双十一、特斯拉的汽⻋车智能终端定位、勇⼠士队的崛起。。。\n",
    "\n",
    "## 《AI Superpowers》—— 李开复\n",
    "\n",
    "https://www.jianshu.com/p/af5e1ea0c706\n",
    "\n",
    "- 硅谷和中国的发展路径 —— 硅谷是通过自下而上的方式形成了程序员、企业家、公司、投资公司的生态，中国是通过顶层设计这种自上而下的方式。\n",
    "\n",
    "- 硅谷和中国的优势 —— **硅谷的优势是人才多、算法强，中国的优势是市场大、数据多**。\n",
    "\n",
    "- 市场环境的区别 —— 中国市场经常出现斗兽场，数千公司竞争一条赛道，培养出了角斗士般的中国企业家，最好的例子就是王兴。\n",
    "\n",
    "- AI对未来的影响 —— 经济层面，生产力会大爆发；社会层面，会导致大变革，相当比例的人会被算法和机器人代替。（看2018年底的这波中国IT业的裁员，不禁感叹其实浪潮可能已经来了）\n",
    "\n",
    "- 人工智能的四波浪潮 —— 互联网智能化、商业智能化、实体世界智能化、自主智能化\n",
    "\n",
    "- 如何应对AI冲击 —— 通过教育实现知识再构、减少劳动时间、收入重新分配。（感觉未来会火的行业是在线教育、社交工具、旅游产业、游戏产业、体育影视等消费产业。在未来，IT公司的社会属性会越来越强，会承担越来越多的社会责任。）"
   ]
  },
  {
   "cell_type": "markdown",
   "metadata": {},
   "source": [
    "## 爬虫是什么？\n",
    "\n",
    "爬虫(英文:spider, crawler, gecco) —— 从互联网、⽂件等资源，按照一定规则，抽取所需信息的程序或脚本⽂文件。\n",
    "\n",
    "- ⼤公司与小公司之别\n",
    "- 为网页展示提供内容\n",
    "- 为数据处理提供原始数据\n",
    "- 为量化分析提供时间序列数据\n",
    "- 为自然语言处理提供语料\n",
    "\n",
    "![](https://tva1.sinaimg.cn/large/006y8mN6ly1g8v11a88adj31n009216j.jpg)\n",
    "\n",
    "产品未动，数据先行。爬虫往往是产品线上面对外部网络的第一层:特异情况多且复杂，既要⾯对各种反爬，也要有一定的系统设计能力。"
   ]
  },
  {
   "cell_type": "markdown",
   "metadata": {},
   "source": [
    "## 爬虫的合法性问题：关于爬虫协议\n",
    "\n",
    "爬虫协议:robots.txt。全称是“网络爬虫排除标准”，网站通过Robots协议告诉搜索引擎哪些页面可以抓取，哪些页面不能抓取。\n",
    "\n",
    "如何查看爬⾍虫协议：⽹站根目录下 /robots.txt \n",
    "\n",
    "举例1：今日头条 https://www.toutiao.com/robots.txt \n",
    "\n",
    "举例2：新浪新闻:https://news.sina.com.cn/robots.txt\n",
    "\n",
    "User-agent :搜索引擎种类(用户代理：user-agent，可以让服务器识别客户使用的操作系统及版本、浏览器类型和版本)\n",
    "\n",
    "disallow：不允许抓取的部分\n",
    "\n",
    "> 举例:\n",
    ">\n",
    "> Disallow: /user/ \n",
    ">\n",
    "> Disallow: /group/ \n",
    ">\n",
    "> Disallow: /?* \n",
    ">\n",
    "> Disallow: /*?*"
   ]
  },
  {
   "cell_type": "markdown",
   "metadata": {},
   "source": [
    "## 如果不遵守爬⾍协议的话。。。\n",
    "\n",
    "robots.txt是⼀个“君子协议”?\n",
    "\n",
    "违反“爬虫协议”能否适用反不正当竞争法?（https://www.chinacourt.org/article/detail/2013/06/id/1001434.shtml ）\n",
    "\n",
    "百度与360“爬虫”之争（http://tech.163.com/14/0807/13/A322QB3Q000915BD.html ）"
   ]
  },
  {
   "cell_type": "markdown",
   "metadata": {},
   "source": [
    "## 爬虫分类:通用爬虫与聚焦爬虫\n",
    "\n",
    "通用爬虫：爬虫从一个起始网址进入，抓取全站所有信息，用户主要是⼤型⻔户⽹站、搜索引擎等⼤型web服务（⾕歌、雅虎、百度、搜狗、Naver、Yandex)\n",
    "\n",
    "聚焦爬⾍虫：只抓取定义好要抓取的内容，适用于快速获取所需信息的业务（头条的新闻爬虫、高德的地理信息爬虫、雪球的金融数据爬虫)"
   ]
  },
  {
   "cell_type": "markdown",
   "metadata": {},
   "source": [
    "## 客户端与服务端\n",
    "\n",
    "客户端(client):为用户(浏览器、手机等终端使用者)提供本地服务的程序 \n",
    "\n",
    "服务端(server):为服务器(云服务、主机)提供服务的程序 \n",
    "\n",
    "请求(request):客户端发向服务端，寻求服务 \n",
    "\n",
    "响应(response):服务端发向客户端，提供服务"
   ]
  },
  {
   "cell_type": "markdown",
   "metadata": {},
   "source": [
    "## HTTP协议与HTML\n",
    "\n",
    "HTML：全称HyperText Markup Language，超文本标记语言，诞生于1960年（by Ted Nelson）（互联网诞生于1969年）；\n",
    "\n",
    "HTTP：全称HyperText Transfer Protocol，超⽂文本传输协议（https://www.ietf.org/rfc/rfc2616.txt ）\n",
    "\n",
    "信息载体与信息高速公路的关系"
   ]
  },
  {
   "cell_type": "markdown",
   "metadata": {},
   "source": [
    "## URI和URL、URN\n",
    "\n",
    "URI（网络资源ID）：统一资源识别符（Uniform Resource Identifier）\n",
    "\n",
    "URN（只命名，不定位资源）：统一资源名称（Uniform Resource Name），举例：磁力链接、ISBN码\n",
    "\n",
    "URL（命名+定位资源）：统一资源定位符（Uniform Resource Locator）\n",
    "\n",
    "三者的关系：URI = URN + URL"
   ]
  },
  {
   "cell_type": "markdown",
   "metadata": {},
   "source": [
    "## 超⽂文本(HyperText)\n",
    "\n",
    "普通文本：纯文字的作文;\n",
    "\n",
    "超文本：除了文字、还有图片、音频、视频、超链接等资源：\n",
    "\n",
    "```\n",
    "<img>标签里⾯面是图片、<audio> 标签里面是音频，<vedio>标签里面是视频；\n",
    "```\n",
    "\n",
    "![](https://tva1.sinaimg.cn/large/006y8mN6ly1g8v1o11l2rj30ja0rmh5y.jpg)\n",
    "    \n",
    "https://www.jd.com"
   ]
  },
  {
   "cell_type": "markdown",
   "metadata": {},
   "source": [
    "## HTTPS\n",
    "\n",
    "URL开头可能是http、https、ftp、mailto、telnet \n",
    "\n",
    "爬虫通常要抓取的是http和https\n",
    "\n",
    "\n",
    "HTTPS（HyperText Transfer Protocol over Secure Socket Layer），是HTTP的安全加强版，即HTTP加入了SSL；SSL是网景公司研发的数据传说安全协议：通过加密的信息安全通道保证数据传输安全；\n",
    "\n",
    "https网站可以通过地址栏的锁头标志查看其信息\n",
    "\n",
    "淘宝网 https://www.taobao.com/ \n",
    "\n",
    "⼈民网 http://www.people.com.cn/"
   ]
  },
  {
   "cell_type": "markdown",
   "metadata": {},
   "source": [
    "## HTTP请求过程\n",
    "\n",
    "![](https://tva1.sinaimg.cn/large/006y8mN6ly1g8v1sx7sgcj31o90u0u0z.jpg)"
   ]
  },
  {
   "cell_type": "markdown",
   "metadata": {},
   "source": [
    "## 请求\n",
    "\n",
    "### 请求方法\n",
    "\n",
    "最常见的两种请求方法：get和post\n",
    "\n",
    "get方法：\n",
    "\n",
    "1. 在网址栏里输⼊一个网址;\n",
    "\n",
    "2. 在搜索框中输入搜索词\n",
    "\n",
    "post方法：表单登录\n",
    "\n",
    "### get和post比较\n",
    "\n",
    "\n",
    "get请求的参数包含在url中，可以在url中看到，post请求url不不包含参数，数据都是通过表单传输的，包含在请求体中；post比get要安全;\n",
    "\n",
    "\n",
    "get请求提交的url长度有限制，不同浏览器不同版本的长度限制不同；post方法的数据大小限制，取决于表单的设置，可以远远大于get请求的数据。\n",
    "\n",
    "### 其它请求方法\n",
    "\n",
    "HEAD：⽤于获取报头 \n",
    "\n",
    "PUT：从客户端向服务器传送的数据取代指定⽂文档中的内容 \n",
    "\n",
    "DELETE：删除服务器中指定的内容 \n",
    "\n",
    "参考：http://www.runoob.com/http/http-methods.html\n",
    "\n",
    "### 请求网址和请求体\n",
    "\n",
    "请求网址：即url\n",
    "\n",
    "请求体：post请求中的表单数据；get请求的请求体为空\n",
    "\n",
    "### 请求头\n",
    "\n",
    "Accept：请求报头域，用于指定客户端可以接受哪些类型的信息; \n",
    "\n",
    "Accept-Encoding: 客户端可接受的内容编码;\n",
    "\n",
    "\n",
    "Accept-Language: 客户端可接受的语言类型\n",
    "\n",
    "Cache-control: 客户端对缓存的设置\n",
    "\n",
    "cookie: 网站为了跟踪用户而存放在用户本地的数据;\n",
    "\n",
    "Upgrade-insecure-requests:1 （Chrome可以自动将http请求升级为https的安全传输;）\n",
    "\n",
    "user-agent: 用于让服务器识别客户使用的操作系统及版本、浏览器及版本; 可用于伪装浏览器"
   ]
  },
  {
   "cell_type": "markdown",
   "metadata": {},
   "source": [
    "## 响应\n",
    "\n",
    "### 响应状态码 —— ⽤于表示服务器的响应状态\n",
    "\n",
    "200:服务器成功处理了请求 \n",
    "\n",
    "301:网址重定向\n",
    "\n",
    "403:服务器拒绝此请求 \n",
    "\n",
    "404:服务器找不到请求的资源 \n",
    "\n",
    "503:服务器目前无法使用\n",
    "\n",
    "### 响应头\n",
    "\n",
    "date:日期和时间标记 \n",
    "\n",
    "expires:指定响应的过期时间; \n",
    "\n",
    "server:服务器的名称、版本 \n",
    "\n",
    "age:缓存处理的时间 \n",
    "\n",
    "content-length:响应长度 \n",
    "\n",
    "content-type:响应类型"
   ]
  }
 ],
 "metadata": {
  "kernelspec": {
   "display_name": "venv_py3.7",
   "language": "python",
   "name": "venv_py3.7"
  },
  "language_info": {
   "codemirror_mode": {
    "name": "ipython",
    "version": 3
   },
   "file_extension": ".py",
   "mimetype": "text/x-python",
   "name": "python",
   "nbconvert_exporter": "python",
   "pygments_lexer": "ipython3",
   "version": "3.7.4"
  }
 },
 "nbformat": 4,
 "nbformat_minor": 2
}
