{
 "cells": [
  {
   "cell_type": "code",
   "execution_count": 1,
   "metadata": {},
   "outputs": [
    {
     "name": "stdout",
     "output_type": "stream",
     "text": [
      "   1   2   3   4  hello\n",
      "0  5   6   7   8  world\n",
      "1  9  10  11  12    foo\n",
      "   0   1   2   3      4\n",
      "0  1   2   3   4  hello\n",
      "1  5   6   7   8  world\n",
      "2  9  10  11  12    foo\n",
      "   a   b   c   d message\n",
      "0  1   2   3   4   hello\n",
      "1  5   6   7   8   world\n",
      "2  9  10  11  12     foo\n"
     ]
    }
   ],
   "source": [
    "# 读取csv文件\n",
    "import pandas as pd\n",
    "\n",
    "pd_1 = pd.read_csv('ex1.csv')\n",
    "print(pd_1)\n",
    "\n",
    "pd_2 = pd.read_csv('ex1.csv', header=None)\n",
    "print(pd_2)\n",
    "\n",
    "pd_3= pd.read_csv('ex1.csv', names=['a', 'b', 'c', 'd', 'message'])\n",
    "print(pd_3)"
   ]
  },
  {
   "cell_type": "code",
   "execution_count": 2,
   "metadata": {},
   "outputs": [
    {
     "name": "stdout",
     "output_type": "stream",
     "text": [
      "         a   b   c   d\n",
      "message               \n",
      "hello    1   2   3   4\n",
      "world    5   6   7   8\n",
      "foo      9  10  11  12\n"
     ]
    }
   ],
   "source": [
    "names = ['a', 'b', 'c', 'd', 'message']\n",
    "\n",
    "pd_4 = pd.read_csv('ex1.csv', names=names, index_col='message')\n",
    "print(pd_4)"
   ]
  },
  {
   "cell_type": "code",
   "execution_count": 3,
   "metadata": {},
   "outputs": [],
   "source": [
    "# 输出到csv\n",
    "pd_4.to_csv('ex2.csv')"
   ]
  }
 ],
 "metadata": {
  "kernelspec": {
   "display_name": "venv_py3.7",
   "language": "python",
   "name": "venv_py3.7"
  },
  "language_info": {
   "codemirror_mode": {
    "name": "ipython",
    "version": 3
   },
   "file_extension": ".py",
   "mimetype": "text/x-python",
   "name": "python",
   "nbconvert_exporter": "python",
   "pygments_lexer": "ipython3",
   "version": "3.7.4"
  }
 },
 "nbformat": 4,
 "nbformat_minor": 2
}
