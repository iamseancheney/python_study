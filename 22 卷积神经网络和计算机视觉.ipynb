{
 "cells": [
  {
   "cell_type": "markdown",
   "metadata": {},
   "source": [
    "## 引起误会的图片\n",
    "\n",
    "![](https://tva1.sinaimg.cn/large/006y8mN6ly1g9a24j4xw1j30ht0fhjt1.jpg)\n",
    "\n",
    "![](https://tva1.sinaimg.cn/large/006y8mN6ly1g9a252ttm3j30hs0dcjti.jpg)\n",
    "\n",
    "![](https://tva1.sinaimg.cn/large/006y8mN6ly1g9er4dsp6dj30h30l0x08.jpg)\n",
    "\n",
    "![](https://tva1.sinaimg.cn/large/006y8mN6ly1g9er85e68lj30d10ed46d.jpg)\n",
    "\n",
    "\n",
    "\n",
    "## 视觉原理\n",
    "\n",
    "David Hubel 和 Torsten Wiesel 在1958年和1959年分别在鸡和猴子上做实验，得出了关于视神经原理，荣获了1981年的诺贝尔生理学医学奖。\n",
    "\n",
    "![](https://tva1.sinaimg.cn/large/006y8mN6ly1g99fl9uxjhj313z0d2mz9.jpg)\n",
    "\n",
    "- 不同的视神经关注不同的区域（local receptive field）\n",
    "\n",
    "- 有的视神经只关注水平线，有的关注垂直线\n",
    "\n",
    "- 有的视神经有更大的接收区域，可以识别更复杂的、由低层次视神经构成的图像（图中不是全连接层）\n",
    "\n",
    "1980年，神经感知 >> 卷积神经网络。\n",
    "\n",
    "1998年，Yann LeCun发明了LeNet-5架构，用于银行识别手写字。"
   ]
  },
  {
   "cell_type": "markdown",
   "metadata": {},
   "source": [
    "## 卷积层\n",
    "\n",
    "> 卷积层的优势：100x100的图片总共有10000个像素，假如全连接层的第一层有1000个神经元，那么就会有1千万个连接。。。\n",
    "\n",
    "白话卷积：https://blog.csdn.net/qq_39521554/article/details/79083864\n",
    "\n",
    "![](https://tva1.sinaimg.cn/large/006y8mN6ly1g9a2t16rlqj30in0ayjtk.jpg)\n",
    "\n",
    "> 卷积的第二个优势：可以直接用2D神经层\n",
    "\n",
    "有0填充\n",
    "\n",
    "![](https://tva1.sinaimg.cn/large/006y8mN6ly1g9a2xo96ahj30ii0d6djt.jpg)\n",
    "\n",
    "有步长\n",
    "\n",
    "![](https://tva1.sinaimg.cn/large/006y8mN6ly1g9a2zwi0xij30in0cfq6y.jpg)"
   ]
  },
  {
   "cell_type": "markdown",
   "metadata": {},
   "source": [
    "## 过滤器\n",
    "\n",
    "过滤器 == 神经元的权重 == 卷积核\n",
    "\n",
    "![](https://tva1.sinaimg.cn/large/006y8mN6ly1g9a39u414rj31400p4dku.jpg)\n",
    "\n",
    "每个过滤器对图片做矩阵运算之后，都会得到一个**特征映射**。"
   ]
  },
  {
   "cell_type": "markdown",
   "metadata": {},
   "source": [
    "## 真正的卷积层\n",
    "\n",
    "三个特点：\n",
    "\n",
    "- 实际上，可能有任意多个过滤器，每个过滤器都会生成一个特征映射。\n",
    "\n",
    "- 每个特征的每个像素都是一个神经元，同一个特征映射的所有神经元共享参数（权重和偏置项）。\n",
    "\n",
    "- 接收区域的宽和高不变，但是扩展到了前面一层的所有特征映射。\n",
    "\n",
    "![](https://tva1.sinaimg.cn/large/006y8mN6ly1g9a3scjo7bj30it0gdtdo.jpg)\n",
    "\n",
    "总结成公式：\n",
    "\n",
    "![](https://tva1.sinaimg.cn/large/006y8mN6ly1g9a4htkvrsj30eo05ljrw.jpg)"
   ]
  },
  {
   "cell_type": "code",
   "execution_count": 6,
   "metadata": {
    "scrolled": true
   },
   "outputs": [],
   "source": [
    "# TensorFlow实现卷积层\n",
    "\n",
    "# 见code/cnn_01.py"
   ]
  },
  {
   "cell_type": "markdown",
   "metadata": {},
   "source": [
    "## 池化层\n",
    "\n",
    "卷积层在训练时，对内存要求很高。所以需要下采样，即减少输入。\n",
    "\n",
    "![](https://tva1.sinaimg.cn/large/006y8mN6ly1g9a5w30f5hj30j9084n27.jpg)\n",
    "\n"
   ]
  },
  {
   "cell_type": "code",
   "execution_count": 9,
   "metadata": {},
   "outputs": [],
   "source": [
    "# TensorFlow实现池化层\n",
    "\n",
    "from tensorflow import keras\n",
    "\n",
    "max_pool = keras.layers.MaxPool2D(pool_size=2)\n",
    "\n",
    "avg_pool = keras.layers.AvgPool2D(pool_size=2)"
   ]
  },
  {
   "cell_type": "markdown",
   "metadata": {},
   "source": [
    "max池化层也可以作用在深度方向上\n",
    "\n",
    "![](https://tva1.sinaimg.cn/large/006y8mN6ly1g9a6chzqpij30f60cyq5h.jpg)"
   ]
  },
  {
   "cell_type": "code",
   "execution_count": 11,
   "metadata": {},
   "outputs": [
    {
     "ename": "NameError",
     "evalue": "name 'images' is not defined",
     "output_type": "error",
     "traceback": [
      "\u001b[0;31m---------------------------------------------------------------------------\u001b[0m",
      "\u001b[0;31mNameError\u001b[0m                                 Traceback (most recent call last)",
      "\u001b[0;32m<ipython-input-11-a1ba2aefc475>\u001b[0m in \u001b[0;36m<module>\u001b[0;34m\u001b[0m\n\u001b[1;32m      1\u001b[0m \u001b[0;32mimport\u001b[0m \u001b[0mtensorflow\u001b[0m \u001b[0;32mas\u001b[0m \u001b[0mtf\u001b[0m\u001b[0;34m\u001b[0m\u001b[0;34m\u001b[0m\u001b[0m\n\u001b[1;32m      2\u001b[0m \u001b[0;34m\u001b[0m\u001b[0m\n\u001b[0;32m----> 3\u001b[0;31m output = tf.nn.max_pool(images,\n\u001b[0m\u001b[1;32m      4\u001b[0m                         \u001b[0mksize\u001b[0m\u001b[0;34m=\u001b[0m\u001b[0;34m(\u001b[0m\u001b[0;36m1\u001b[0m\u001b[0;34m,\u001b[0m \u001b[0;36m1\u001b[0m\u001b[0;34m,\u001b[0m \u001b[0;36m1\u001b[0m\u001b[0;34m,\u001b[0m \u001b[0;36m3\u001b[0m\u001b[0;34m)\u001b[0m\u001b[0;34m,\u001b[0m\u001b[0;34m\u001b[0m\u001b[0;34m\u001b[0m\u001b[0m\n\u001b[1;32m      5\u001b[0m                         \u001b[0mstrides\u001b[0m\u001b[0;34m=\u001b[0m\u001b[0;34m(\u001b[0m\u001b[0;36m1\u001b[0m\u001b[0;34m,\u001b[0m \u001b[0;36m1\u001b[0m\u001b[0;34m,\u001b[0m \u001b[0;36m1\u001b[0m\u001b[0;34m,\u001b[0m \u001b[0;36m3\u001b[0m\u001b[0;34m)\u001b[0m\u001b[0;34m,\u001b[0m\u001b[0;34m\u001b[0m\u001b[0;34m\u001b[0m\u001b[0m\n",
      "\u001b[0;31mNameError\u001b[0m: name 'images' is not defined"
     ]
    }
   ],
   "source": [
    "import tensorflow as tf\n",
    "\n",
    "output = tf.nn.max_pool(images,\n",
    "                        ksize=(1, 1, 1, 3),\n",
    "                        strides=(1, 1, 1, 3),\n",
    "                        padding=\"valid\")\n",
    "\n",
    "depth_pool = keras.layers.Lambda(\n",
    "    lambda X: tf.nn.max_pool(X, ksize=(1, 1, 1, 3), strides=(1, 1, 1, 3),\n",
    "                             padding=\"valid\"))"
   ]
  },
  {
   "cell_type": "markdown",
   "metadata": {},
   "source": [
    "## 典型的CNN架构\n",
    "\n",
    "![](https://tva1.sinaimg.cn/large/006y8mN6ly1g9a6hbj76bj314009lq5a.jpg)\n",
    "\n",
    "代码见 code/cnn_02.py"
   ]
  },
  {
   "cell_type": "markdown",
   "metadata": {},
   "source": [
    "## 更多的CNN架构\n",
    "\n",
    "### LeNet-5\n",
    "\n",
    "![](https://tva1.sinaimg.cn/large/006y8mN6ly1g9a72imj4ij30eq0gmmyd.jpg)\n",
    "\n",
    "### AlexNet（2012）\n",
    "\n",
    "Alex Krizhevsky（Geoffrey Hinton小组），top-5错误率是17%，第二名则为26%\n",
    "\n",
    "![](https://tva1.sinaimg.cn/large/006y8mN6ly1g9a74v8m2rj30em0di3zq.jpg)\n",
    "\n",
    "### GoogLeNet（2014）\n",
    "\n",
    "Christian Szegedy（Google Research）top-5错误率7%\n",
    "\n",
    "![](https://tva1.sinaimg.cn/large/006y8mN6ly1g9a77327rfj30h90fegsy.jpg)\n",
    "\n",
    "### ResNet（2015）\n",
    "\n",
    "何凯明，top-5错误率3.6%\n",
    "\n",
    "![](https://tva1.sinaimg.cn/large/006y8mN6ly1g9a79okptaj30h70aoael.jpg)\n",
    "\n",
    "### SENet（2017）\n",
    "\n",
    "top-5错误率2.25%，"
   ]
  },
  {
   "cell_type": "code",
   "execution_count": 1,
   "metadata": {},
   "outputs": [],
   "source": [
    "# 案例：人脸识别\n",
    "\n",
    "# demo: https://www.faceplusplus.com.cn/face-detection/#demo"
   ]
  }
 ],
 "metadata": {
  "kernelspec": {
   "display_name": "venv_py3.7",
   "language": "python",
   "name": "venv_py3.7"
  },
  "language_info": {
   "codemirror_mode": {
    "name": "ipython",
    "version": 3
   },
   "file_extension": ".py",
   "mimetype": "text/x-python",
   "name": "python",
   "nbconvert_exporter": "python",
   "pygments_lexer": "ipython3",
   "version": "3.7.4"
  }
 },
 "nbformat": 4,
 "nbformat_minor": 2
}
