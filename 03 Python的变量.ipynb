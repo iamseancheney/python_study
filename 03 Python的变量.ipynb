{
 "cells": [
  {
   "cell_type": "markdown",
   "metadata": {},
   "source": [
    "变量名的命名原则：保证代码可读性，使用小写字母，单词用下划线连接，开头不能是数字，不用关键词"
   ]
  },
  {
   "cell_type": "markdown",
   "metadata": {},
   "source": [
    "- 不可变类型（unmutable）：数字，字符串，元组\n",
    "- 可变类型（mutable）：列表，字典"
   ]
  },
  {
   "cell_type": "markdown",
   "metadata": {},
   "source": [
    "## Python做标量运算"
   ]
  },
  {
   "cell_type": "code",
   "execution_count": 1,
   "metadata": {
    "scrolled": true
   },
   "outputs": [
    {
     "name": "stdout",
     "output_type": "stream",
     "text": [
      "4\n",
      "0\n",
      "6\n",
      "0.5\n",
      "2\n",
      "1\n",
      "8\n"
     ]
    }
   ],
   "source": [
    "print(2 + 2)\n",
    "\n",
    "print(2 - 2)\n",
    "\n",
    "print(2 * 3)\n",
    "\n",
    "print(1 / 2)\n",
    "\n",
    "print(5 // 2)\n",
    "\n",
    "print(5 % 2)\n",
    "\n",
    "print(2 ** 3)"
   ]
  },
  {
   "cell_type": "code",
   "execution_count": 2,
   "metadata": {},
   "outputs": [
    {
     "name": "stdout",
     "output_type": "stream",
     "text": [
      "1573458869.15978\n",
      "<class 'float'>\n",
      "1573458869\n",
      "<class 'int'>\n"
     ]
    }
   ],
   "source": [
    "import time\n",
    "\n",
    "current_time = time.time()\n",
    "print(current_time)\n",
    "print(type(current_time))\n",
    "print(int(current_time))\n",
    "print(type(int(current_time)))"
   ]
  },
  {
   "cell_type": "code",
   "execution_count": 3,
   "metadata": {
    "scrolled": true
   },
   "outputs": [
    {
     "name": "stdout",
     "output_type": "stream",
     "text": [
      "<class 'str'>\n",
      "<class 'float'>\n"
     ]
    }
   ],
   "source": [
    "float_number = '3.1415926'\n",
    "print(type(float_number))\n",
    "print(type(float(float_number)))"
   ]
  },
  {
   "cell_type": "markdown",
   "metadata": {},
   "source": [
    "Python的math模块中有更多的数据类型，比如对数、三角函数，见 https://docs.python.org/3/library/math.html"
   ]
  },
  {
   "cell_type": "markdown",
   "metadata": {},
   "source": [
    "## 如何输入数据？"
   ]
  },
  {
   "cell_type": "code",
   "execution_count": 4,
   "metadata": {
    "scrolled": false
   },
   "outputs": [
    {
     "name": "stdout",
     "output_type": "stream",
     "text": [
      "Your age: 33\n",
      "33\n"
     ]
    }
   ],
   "source": [
    "age = input(\"Your age: \")\n",
    "print(age)"
   ]
  },
  {
   "cell_type": "markdown",
   "metadata": {},
   "source": [
    "## Python的列表"
   ]
  },
  {
   "cell_type": "code",
   "execution_count": 5,
   "metadata": {},
   "outputs": [
    {
     "name": "stdout",
     "output_type": "stream",
     "text": [
      "['h', 'e', 'l', 'l', 'o']\n"
     ]
    }
   ],
   "source": [
    "# 函数list()，可以用来构造list\n",
    "\n",
    "list_obj = list('hello')\n",
    "print(list_obj)"
   ]
  },
  {
   "cell_type": "markdown",
   "metadata": {},
   "source": [
    "### list的基本操作"
   ]
  },
  {
   "cell_type": "code",
   "execution_count": 2,
   "metadata": {},
   "outputs": [
    {
     "name": "stdout",
     "output_type": "stream",
     "text": [
      "[1, 2, 1]\n"
     ]
    }
   ],
   "source": [
    "# 给元素赋值\n",
    "\n",
    "x = [1, 1, 1]\n",
    "x[1] = 2\n",
    "print(x)\n",
    "\n",
    "# 小问题 —— 为什么序号要从0开始？https://www.jianshu.com/p/cf61a9eda83c"
   ]
  },
  {
   "cell_type": "code",
   "execution_count": 7,
   "metadata": {},
   "outputs": [
    {
     "name": "stdout",
     "output_type": "stream",
     "text": [
      "['Alice', 'Beth', 'Dee-Dee', 'Earl']\n"
     ]
    }
   ],
   "source": [
    "# 删除元素\n",
    "\n",
    "names = ['Alice', 'Beth', 'Cecil', 'Dee-Dee', 'Earl']\n",
    "del names[2]\n",
    "print(names)"
   ]
  },
  {
   "cell_type": "code",
   "execution_count": 8,
   "metadata": {},
   "outputs": [
    {
     "name": "stdout",
     "output_type": "stream",
     "text": [
      "['Beth', 'Cecil']\n",
      "['Beth', 'Dee-Dee']\n",
      "['Alice', 'Beth', 'Cecil', 'Dee-Dee', 'Earl']\n",
      "['Earl', 'Dee-Dee', 'Cecil', 'Beth', 'Alice']\n"
     ]
    }
   ],
   "source": [
    "# 切片 slice\n",
    "\n",
    "names = ['Alice', 'Beth', 'Cecil', 'Dee-Dee', 'Earl']\n",
    "\n",
    "name_slice = names[1:3]\n",
    "print(name_slice)\n",
    "\n",
    "name_slice = names[1:4:2]\n",
    "print(name_slice)\n",
    "\n",
    "name_slice = names[:]\n",
    "print(name_slice)\n",
    "\n",
    "name_slice = names[::-1]\n",
    "print(name_slice)"
   ]
  },
  {
   "cell_type": "code",
   "execution_count": 9,
   "metadata": {},
   "outputs": [
    {
     "name": "stdout",
     "output_type": "stream",
     "text": [
      "[1, 2, 3, 4]\n"
     ]
    }
   ],
   "source": [
    "# 列表方法\n",
    "\n",
    "# append()\n",
    "\n",
    "lst = [1, 2, 3]\n",
    "lst.append(4)\n",
    "print(lst)"
   ]
  },
  {
   "cell_type": "code",
   "execution_count": 10,
   "metadata": {},
   "outputs": [
    {
     "name": "stdout",
     "output_type": "stream",
     "text": [
      "[]\n"
     ]
    }
   ],
   "source": [
    "# clear()\n",
    "\n",
    "lst = [1, 2, 3]\n",
    "lst.clear()\n",
    "print(lst)"
   ]
  },
  {
   "cell_type": "code",
   "execution_count": 11,
   "metadata": {},
   "outputs": [
    {
     "name": "stdout",
     "output_type": "stream",
     "text": [
      "2\n"
     ]
    }
   ],
   "source": [
    "# count()\n",
    "\n",
    "print(['to', 'be', 'or', 'not', 'to', 'be'].count('to'))"
   ]
  },
  {
   "cell_type": "code",
   "execution_count": 12,
   "metadata": {},
   "outputs": [
    {
     "name": "stdout",
     "output_type": "stream",
     "text": [
      "[1, 2, 3, 4, 5, 6]\n"
     ]
    }
   ],
   "source": [
    "# extend()\n",
    "\n",
    "a = [1, 2, 3]\n",
    "b = [4, 5, 6]\n",
    "a.extend(b)\n",
    "print(a)"
   ]
  },
  {
   "cell_type": "code",
   "execution_count": 13,
   "metadata": {},
   "outputs": [
    {
     "name": "stdout",
     "output_type": "stream",
     "text": [
      "[1, 2, 3, 'four', 5, 6, 7]\n"
     ]
    }
   ],
   "source": [
    "# insert()\n",
    "\n",
    "numbers = [1, 2, 3, 5, 6, 7]\n",
    "numbers.insert(3, 'four')\n",
    "print(numbers)"
   ]
  },
  {
   "cell_type": "code",
   "execution_count": 14,
   "metadata": {},
   "outputs": [
    {
     "name": "stdout",
     "output_type": "stream",
     "text": [
      "3\n"
     ]
    }
   ],
   "source": [
    "# pop()\n",
    "\n",
    "x = [1, 2, 3]\n",
    "print(x.pop())"
   ]
  },
  {
   "cell_type": "code",
   "execution_count": 15,
   "metadata": {},
   "outputs": [
    {
     "name": "stdout",
     "output_type": "stream",
     "text": [
      "[1, 2, 4, 6, 7, 9]\n"
     ]
    }
   ],
   "source": [
    "# sort()\n",
    "\n",
    "x = [4, 6, 2, 1, 7, 9]\n",
    "x.sort()\n",
    "print(x)"
   ]
  },
  {
   "cell_type": "markdown",
   "metadata": {},
   "source": [
    "## Python的元组"
   ]
  },
  {
   "cell_type": "code",
   "execution_count": 16,
   "metadata": {},
   "outputs": [
    {
     "ename": "TypeError",
     "evalue": "'tuple' object does not support item assignment",
     "output_type": "error",
     "traceback": [
      "\u001b[0;31m---------------------------------------------------------------------------\u001b[0m",
      "\u001b[0;31mTypeError\u001b[0m                                 Traceback (most recent call last)",
      "\u001b[0;32m<ipython-input-16-1b1ccef2c449>\u001b[0m in \u001b[0;36m<module>\u001b[0;34m\u001b[0m\n\u001b[1;32m      3\u001b[0m \u001b[0;31m# 不能赋值\u001b[0m\u001b[0;34m\u001b[0m\u001b[0;34m\u001b[0m\u001b[0;34m\u001b[0m\u001b[0m\n\u001b[1;32m      4\u001b[0m \u001b[0mx\u001b[0m \u001b[0;34m=\u001b[0m \u001b[0;34m(\u001b[0m\u001b[0;36m1\u001b[0m\u001b[0;34m,\u001b[0m\u001b[0;36m2\u001b[0m\u001b[0;34m,\u001b[0m\u001b[0;36m3\u001b[0m\u001b[0;34m)\u001b[0m\u001b[0;34m\u001b[0m\u001b[0;34m\u001b[0m\u001b[0m\n\u001b[0;32m----> 5\u001b[0;31m \u001b[0mx\u001b[0m\u001b[0;34m[\u001b[0m\u001b[0;36m1\u001b[0m\u001b[0;34m]\u001b[0m \u001b[0;34m=\u001b[0m \u001b[0;36m4\u001b[0m\u001b[0;34m\u001b[0m\u001b[0;34m\u001b[0m\u001b[0m\n\u001b[0m",
      "\u001b[0;31mTypeError\u001b[0m: 'tuple' object does not support item assignment"
     ]
    }
   ],
   "source": [
    "# 元组也是序列，唯一的差别在于元组不能修改\n",
    "\n",
    "# 不能赋值\n",
    "x = (1,2,3)\n",
    "x[1] = 4"
   ]
  },
  {
   "cell_type": "code",
   "execution_count": 17,
   "metadata": {},
   "outputs": [
    {
     "ename": "AttributeError",
     "evalue": "'tuple' object has no attribute 'sort'",
     "output_type": "error",
     "traceback": [
      "\u001b[0;31m---------------------------------------------------------------------------\u001b[0m",
      "\u001b[0;31mAttributeError\u001b[0m                            Traceback (most recent call last)",
      "\u001b[0;32m<ipython-input-17-45b32450f93b>\u001b[0m in \u001b[0;36m<module>\u001b[0;34m\u001b[0m\n\u001b[1;32m      2\u001b[0m \u001b[0;34m\u001b[0m\u001b[0m\n\u001b[1;32m      3\u001b[0m \u001b[0mx\u001b[0m \u001b[0;34m=\u001b[0m \u001b[0;34m(\u001b[0m\u001b[0;36m1\u001b[0m\u001b[0;34m,\u001b[0m\u001b[0;36m2\u001b[0m\u001b[0;34m,\u001b[0m\u001b[0;36m3\u001b[0m\u001b[0;34m,\u001b[0m\u001b[0;36m6\u001b[0m\u001b[0;34m,\u001b[0m\u001b[0;36m5\u001b[0m\u001b[0;34m,\u001b[0m\u001b[0;36m4\u001b[0m\u001b[0;34m)\u001b[0m\u001b[0;34m\u001b[0m\u001b[0;34m\u001b[0m\u001b[0m\n\u001b[0;32m----> 4\u001b[0;31m \u001b[0mx\u001b[0m\u001b[0;34m.\u001b[0m\u001b[0msort\u001b[0m\u001b[0;34m(\u001b[0m\u001b[0;34m)\u001b[0m\u001b[0;34m\u001b[0m\u001b[0;34m\u001b[0m\u001b[0m\n\u001b[0m",
      "\u001b[0;31mAttributeError\u001b[0m: 'tuple' object has no attribute 'sort'"
     ]
    }
   ],
   "source": [
    "# 不能排序，排序实际上也是一种赋值\n",
    "\n",
    "x = (1,2,3,6,5,4)\n",
    "x.sort()"
   ]
  },
  {
   "cell_type": "code",
   "execution_count": 3,
   "metadata": {},
   "outputs": [
    {
     "name": "stdout",
     "output_type": "stream",
     "text": [
      "4 3\n"
     ]
    }
   ],
   "source": [
    "a = 3\n",
    "b = 4\n",
    "a, b = b, a\n",
    "print(a,b)"
   ]
  },
  {
   "cell_type": "markdown",
   "metadata": {},
   "source": [
    "## Python的字符串"
   ]
  },
  {
   "cell_type": "code",
   "execution_count": 19,
   "metadata": {},
   "outputs": [
    {
     "name": "stdout",
     "output_type": "stream",
     "text": [
      "Hello, world. Hot enough for ya?\n"
     ]
    }
   ],
   "source": [
    "# 通配符\n",
    "\n",
    "format = \"Hello, %s. %s enough for ya?\"\n",
    "values = ('world', 'Hot')\n",
    "print(format % values)"
   ]
  },
  {
   "cell_type": "code",
   "execution_count": 20,
   "metadata": {},
   "outputs": [
    {
     "name": "stdout",
     "output_type": "stream",
     "text": [
      "first, second and third\n",
      "to be or not to be\n",
      "3 1 4 2\n",
      "3 2 4 1\n"
     ]
    }
   ],
   "source": [
    "print(\n",
    "    \"{}, {} and {}\".format(\"first\", \"second\", \"third\")\n",
    ")\n",
    "\n",
    "print(\n",
    "    \"{3} {0} {2} {1} {3} {0}\".format(\"be\", \"not\", \"or\", \"to\")\n",
    ")\n",
    "\n",
    "print(\n",
    "    \"{foo} {} {bar} {}\".format(1, 2, bar=4, foo=3)\n",
    ")\n",
    "\n",
    "print(\n",
    "    \"{foo} {1} {bar} {0}\".format(1, 2, bar=4, foo=3)\n",
    ")"
   ]
  },
  {
   "cell_type": "code",
   "execution_count": 21,
   "metadata": {},
   "outputs": [
    {
     "name": "stdout",
     "output_type": "stream",
     "text": [
      "0\n"
     ]
    }
   ],
   "source": [
    "# find()\n",
    "\n",
    "title = \"Monty Python's Flying Circus\"\n",
    "print(title.find('Monty'))"
   ]
  },
  {
   "cell_type": "code",
   "execution_count": 22,
   "metadata": {},
   "outputs": [
    {
     "name": "stdout",
     "output_type": "stream",
     "text": [
      "1+2+3+4+5\n"
     ]
    }
   ],
   "source": [
    "# join()\n",
    "\n",
    "seq = ['1', '2', '3', '4', '5']\n",
    "sep = '+'\n",
    "print(sep.join(seq))"
   ]
  },
  {
   "cell_type": "code",
   "execution_count": 23,
   "metadata": {},
   "outputs": [
    {
     "name": "stdout",
     "output_type": "stream",
     "text": [
      "dance with wolf.\n",
      "Dance With Wolf.\n",
      "DANCE WITH WOLF.\n"
     ]
    }
   ],
   "source": [
    "# 大小写转换\n",
    "\n",
    "str = 'Dance with wolf.'\n",
    "print(str.lower())\n",
    "print(str.title())\n",
    "print(str.upper())"
   ]
  },
  {
   "cell_type": "code",
   "execution_count": 24,
   "metadata": {},
   "outputs": [
    {
     "name": "stdout",
     "output_type": "stream",
     "text": [
      "Dance with dog.\n"
     ]
    }
   ],
   "source": [
    "# replace()\n",
    "\n",
    "str = 'Dance with wolf.'\n",
    "str_replaced = str.replace('wolf','dog')\n",
    "print(str_replaced)"
   ]
  },
  {
   "cell_type": "code",
   "execution_count": 25,
   "metadata": {},
   "outputs": [
    {
     "name": "stdout",
     "output_type": "stream",
     "text": [
      "['1', '2', '3', '4', '5']\n"
     ]
    }
   ],
   "source": [
    "# split()\n",
    "\n",
    "print(\n",
    "    '1+2+3+4+5'.split('+')\n",
    ")"
   ]
  },
  {
   "cell_type": "code",
   "execution_count": 26,
   "metadata": {},
   "outputs": [
    {
     "name": "stdout",
     "output_type": "stream",
     "text": [
      "internal whitespace is kept\n"
     ]
    }
   ],
   "source": [
    "# strip() lstrip() rstrip()\n",
    "\n",
    "print(\n",
    "'    internal whitespace is kept    \\r\\n'.strip()\n",
    ")"
   ]
  },
  {
   "cell_type": "markdown",
   "metadata": {},
   "source": [
    "## Python的字典"
   ]
  },
  {
   "cell_type": "code",
   "execution_count": 27,
   "metadata": {},
   "outputs": [
    {
     "name": "stdout",
     "output_type": "stream",
     "text": [
      "9102\n",
      "9102\n",
      "3\n",
      "{'Alice': '2341', 'Beth': '9102'}\n",
      "False\n",
      "dict_items([('Alice', '2341'), ('Beth', '9102')])\n",
      "dict_keys(['Alice', 'Beth'])\n",
      "dict_values(['2341', '9102'])\n"
     ]
    }
   ],
   "source": [
    "# key value\n",
    "\n",
    "phonebook = {\n",
    "    'Alice': '2341',\n",
    "    'Beth': '9102',\n",
    "    'Cecil': '3258'\n",
    "}\n",
    "\n",
    "print(phonebook['Beth'])\n",
    "print(phonebook.get('Beth'))\n",
    "\n",
    "print(len(phonebook))\n",
    "\n",
    "del phonebook['Cecil']\n",
    "print(phonebook)\n",
    "\n",
    "print('Alice' not in phonebook)\n",
    "\n",
    "print(phonebook.items())\n",
    "\n",
    "print(phonebook.keys())\n",
    "\n",
    "print(phonebook.values())"
   ]
  }
 ],
 "metadata": {
  "kernelspec": {
   "display_name": "venv_py3.7",
   "language": "python",
   "name": "venv_py3.7"
  },
  "language_info": {
   "codemirror_mode": {
    "name": "ipython",
    "version": 3
   },
   "file_extension": ".py",
   "mimetype": "text/x-python",
   "name": "python",
   "nbconvert_exporter": "python",
   "pygments_lexer": "ipython3",
   "version": "3.7.4"
  }
 },
 "nbformat": 4,
 "nbformat_minor": 2
}
