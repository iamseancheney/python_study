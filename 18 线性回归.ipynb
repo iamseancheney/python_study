{
 "cells": [
  {
   "cell_type": "markdown",
   "metadata": {},
   "source": [
    "## 一元线性回归模型\n",
    "\n",
    "y = a + bx + ε\n",
    "\n",
    "其中，a为模型的截距项，b为模型的斜率项，ε为模型的误差项。"
   ]
  },
  {
   "cell_type": "code",
   "execution_count": 7,
   "metadata": {},
   "outputs": [
    {
     "data": {
      "image/png": "[encoded data removed]",
      "text/plain": [
       "<Figure size 360x360 with 1 Axes>"
      ]
     },
     "metadata": {
      "needs_background": "light"
     },
     "output_type": "display_data"
    }
   ],
   "source": [
    "# 导入第三方模块\n",
    "import pandas as pd\n",
    "import matplotlib.pyplot as plt\n",
    "import seaborn as sns\n",
    "\n",
    "\n",
    "# 导入数据集\n",
    "income = pd.read_csv('Salary_Data.csv')\n",
    "# 绘制散点图\n",
    "sns.lmplot(x = 'YearsExperience', y = 'Salary', data = income, ci = None)\n",
    "# 显示图形\n",
    "plt.show()"
   ]
  },
  {
   "cell_type": "markdown",
   "metadata": {},
   "source": [
    "使用最小二乘法求解a和b\n",
    "\n",
    "![](https://tva1.sinaimg.cn/large/006y8mN6ly1g916ponxuvj30ly03fweq.jpg)\n",
    "\n",
    "问题转化为求解函数J(a,b)的最小值，使用偏导数的方法求解出参数a和b，进而得到目标函数的最小值。\n",
    "\n",
    "第一步：展开平方项\n",
    "\n",
    "![](https://tva1.sinaimg.cn/large/006y8mN6ly1g916vj2vpej30ro04faag.jpg)\n",
    "\n",
    "第二步：设偏导数为0\n",
    "\n",
    "![](https://tva1.sinaimg.cn/large/006y8mN6ly1g916vv2hhzj30p10853za.jpg)\n",
    "\n",
    "第三步：和公式转换\n",
    "\n",
    "![](https://tva1.sinaimg.cn/large/006y8mN6ly1g916w6zg1hj30mc08e751.jpg)\n",
    "\n",
    "第四步：化解\n",
    "\n",
    "![](https://tva1.sinaimg.cn/large/006y8mN6ly1g916wimhn9j30qs079js5.jpg)\n",
    "\n",
    "第五步：将参数a带入，求解b\n",
    "\n",
    "![](https://tva1.sinaimg.cn/large/006y8mN6ly1g916wwc5xfj30h106maal.jpg)"
   ]
  },
  {
   "cell_type": "code",
   "execution_count": 8,
   "metadata": {},
   "outputs": [
    {
     "data": {
      "text/plain": [
       "Intercept          25792.200199\n",
       "YearsExperience     9449.962321\n",
       "dtype: float64"
      ]
     },
     "execution_count": 8,
     "metadata": {},
     "output_type": "execute_result"
    }
   ],
   "source": [
    "# 使用第三方模块statsmodels的ols函数\n",
    "\n",
    "# 导入第三方模块\n",
    "import statsmodels.api as sm\n",
    "# 利用收入数据集，构建回归模型\n",
    "fit = sm.formula.ols('Salary ~ YearsExperience', data = income).fit()\n",
    "# 返回模型的参数值\n",
    "fit.params"
   ]
  },
  {
   "cell_type": "markdown",
   "metadata": {},
   "source": [
    "## 多元线性回归模型\n",
    "\n",
    "![](https://tva1.sinaimg.cn/large/006y8mN6ly1g917t56dinj30jc05yt93.jpg)\n",
    "\n",
    "y=β0+β1x1+β2x2+…+βpxn+ε\n",
    "\n",
    "第一步：构建目标函数\n",
    "\n",
    "![](https://tva1.sinaimg.cn/large/006y8mN6ly1g917uc9iifj30f8036dfy.jpg)\n",
    "\n",
    "第二步：展开平方项\n",
    "\n",
    "J(β)=(y-Xβ)'(y-Xβ)\n",
    "\n",
    "=(y'-β'X')(y-Xβ)\n",
    "\n",
    "=(y'y-y'Xβ-β'X'y+β'X'Xβ)\n",
    "\n",
    "第三步：求偏导\n",
    "\n",
    "![](https://tva1.sinaimg.cn/large/006y8mN6ly1g917utrwz4j30jk03k3yq.jpg)\n",
    "\n",
    "第四步：计算偏回归系数的值\n",
    "\n",
    "X'Xβ=X'y\n",
    "\n",
    "β=(X'X)-1X'y"
   ]
  },
  {
   "cell_type": "code",
   "execution_count": 13,
   "metadata": {
    "scrolled": true
   },
   "outputs": [
    {
     "name": "stdout",
     "output_type": "stream",
     "text": [
      "模型的偏回归系数分别为：\n",
      " Intercept               58581.516503\n",
      "C(State)[T.Florida]       927.394424\n",
      "C(State)[T.New York]     -513.468310\n",
      "RD_Spend                    0.803487\n",
      "Administration             -0.057792\n",
      "Marketing_Spend             0.013779\n",
      "dtype: float64\n",
      "对比预测值和实际值的差异：\n",
      "        Prediction       Real\n",
      "8   150621.345802  152211.77\n",
      "48   55513.218079   35673.41\n",
      "14  150369.022458  132602.65\n",
      "42   74057.015562   71498.49\n",
      "29  103413.378282  101004.64\n",
      "44   67844.850378   65200.33\n",
      "4   173454.059692  166187.94\n",
      "31   99580.888895   97483.56\n",
      "13  128147.138397  134307.35\n",
      "18  130693.433835  124266.90\n"
     ]
    }
   ],
   "source": [
    "# 导入模块\n",
    "from sklearn import model_selection\n",
    "# 导入数据\n",
    "Profit = pd.read_excel('Predict to Profit.xlsx')\n",
    "# 将数据集拆分为训练集和测试集\n",
    "train, test = model_selection.train_test_split(Profit, test_size = 0.2, random_state=1234)\n",
    "# 根据train数据集建模\n",
    "model = sm.formula.ols('Profit ~ RD_Spend + Administration + Marketing_Spend + C(State)', data = train).fit()\n",
    "print('模型的偏回归系数分别为：\\n', model.params)\n",
    "# 删除test数据集中的Profit变量，用剩下的自变量进行预测\n",
    "test_X = test.drop(labels = 'Profit', axis = 1)\n",
    "pred = model.predict(exog = test_X)\n",
    "print('对比预测值和实际值的差异：\\n',pd.DataFrame({'Prediction':pred,'Real':test.Profit}))"
   ]
  },
  {
   "cell_type": "code",
   "execution_count": 14,
   "metadata": {
    "scrolled": true
   },
   "outputs": [
    {
     "name": "stdout",
     "output_type": "stream",
     "text": [
      "模型的偏回归系数分别为：\n",
      " Intercept          58068.048193\n",
      "RD_Spend               0.803487\n",
      "Administration        -0.057792\n",
      "Marketing_Spend        0.013779\n",
      "Florida             1440.862734\n",
      "California           513.468310\n",
      "dtype: float64\n"
     ]
    }
   ],
   "source": [
    "# 生成由State变量衍生的哑变量\n",
    "dummies = pd.get_dummies(Profit.State)\n",
    "# 将哑变量与原始数据集水平合并\n",
    "Profit_New = pd.concat([Profit,dummies], axis = 1)\n",
    "# 删除State变量和California变量（因为State变量已被分解为哑变量，New York变量需要作为参照组）\n",
    "Profit_New.drop(labels = ['State','New York'], axis = 1, inplace = True)\n",
    "\n",
    "# 拆分数据集Profit_New\n",
    "train, test = model_selection.train_test_split(Profit_New, test_size = 0.2, random_state=1234)\n",
    "# 建模\n",
    "model2 = sm.formula.ols('Profit ~ RD_Spend + Administration + Marketing_Spend + Florida + California', data = train).fit()\n",
    "print('模型的偏回归系数分别为：\\n', model2.params)"
   ]
  },
  {
   "cell_type": "markdown",
   "metadata": {},
   "source": [
    "Profit=58068.05+0.80RD_Spend-0.06Administation+0.01Marketing_Spend+1440.86Florida+513.47California"
   ]
  }
 ],
 "metadata": {
  "kernelspec": {
   "display_name": "venv_py3.7",
   "language": "python",
   "name": "venv_py3.7"
  },
  "language_info": {
   "codemirror_mode": {
    "name": "ipython",
    "version": 3
   },
   "file_extension": ".py",
   "mimetype": "text/x-python",
   "name": "python",
   "nbconvert_exporter": "python",
   "pygments_lexer": "ipython3",
   "version": "3.7.4"
  }
 },
 "nbformat": 4,
 "nbformat_minor": 2
}
