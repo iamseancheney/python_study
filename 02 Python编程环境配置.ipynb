{
 "cells": [
  {
   "cell_type": "markdown",
   "metadata": {},
   "source": [
    "# 编程环境配置"
   ]
  },
  {
   "cell_type": "markdown",
   "metadata": {},
   "source": [
    "## 1. 下载Python\n",
    "\n",
    "Python官网：https://www.python.org\n",
    "\n",
    "![](https://tva1.sinaimg.cn/large/006y8mN6ly1g8tb5thstyj30y80khq6p.jpg)\n",
    "\n",
    "直接下载Python3.8：https://www.python.org/downloads/release/python-380/\n",
    "\n",
    "![](https://tva1.sinaimg.cn/large/006y8mN6ly1g8tbd5q3kjj30x00bqjud.jpg)"
   ]
  },
  {
   "cell_type": "markdown",
   "metadata": {},
   "source": [
    "## 2. 安装虚拟环境和配置 jupyter notebook\n",
    "\n",
    "安装virtualenv：`pip3 install virtualenv`\n",
    "\n",
    "安装虚拟环境：`virtualenv venv_py3study --python=python3.8`\n",
    "\n",
    "激活虚拟环境：`source venv_py3study/bin/activate`\n",
    "\n",
    "激活虚拟环境之后，终端会显示`(venv_py3study)`\n",
    "\n",
    "在虚拟环境中安装`jupyter`：`pip install jupyter`\n",
    "\n",
    "给jupyter notebook添加内核：`python -m ipykernel install --name venv_py3study`\n",
    "\n",
    "输入`jupyter notebook`，进入jupyter notebook。"
   ]
  },
  {
   "cell_type": "markdown",
   "metadata": {},
   "source": [
    "## 3. 下载和配置PyCharm\n",
    "\n",
    "PyCharm下载地址：https://www.jetbrains.com/pycharm/download/\n",
    "\n",
    "一般开发使用**社区版**即可\n",
    "\n",
    "![](https://tva1.sinaimg.cn/large/006y8mN6ly1g8tvzj814lj30tp0fzgo6.jpg)\n",
    "\n",
    "### 配置PyCharm：\n",
    "\n",
    "设置字体（我喜欢用Monaco，字号15，行距1.2倍）\n",
    "\n",
    "![](https://tva1.sinaimg.cn/large/006y8mN6ly1g8tw1ztodhj317m0u0gr9.jpg)\n",
    "\n",
    "设置主题（我平时喜欢用暗色）\n",
    "\n",
    "![](https://tva1.sinaimg.cn/large/006y8mN6ly1g8tw4nhz14j31ea0u0dl3.jpg)\n",
    "\n",
    "设置解释器（选择刚才的虚拟环境venv_py3study，）\n",
    "\n",
    "![](https://tva1.sinaimg.cn/large/006y8mN6ly1g8tw7ixr8zj31ea0u0tg4.jpg)"
   ]
  }
 ],
 "metadata": {
  "kernelspec": {
   "display_name": "venv_py3.7",
   "language": "python",
   "name": "venv_py3.7"
  },
  "language_info": {
   "codemirror_mode": {
    "name": "ipython",
    "version": 3
   },
   "file_extension": ".py",
   "mimetype": "text/x-python",
   "name": "python",
   "nbconvert_exporter": "python",
   "pygments_lexer": "ipython3",
   "version": "3.7.4"
  }
 },
 "nbformat": 4,
 "nbformat_minor": 2
}
